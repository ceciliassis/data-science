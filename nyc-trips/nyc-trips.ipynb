{
 "cells": [
  {
   "cell_type": "markdown",
   "metadata": {},
   "source": [
    "# Exploring NYC Trips"
   ]
  },
  {
   "cell_type": "markdown",
   "metadata": {},
   "source": [
    "### Author: Cecília Assis\n",
    "#### Github: https://github.com/ceciliassis\n",
    "#### Linkedin: https://www.linkedin.com/in/ceciliassis/ "
   ]
  },
  {
   "cell_type": "markdown",
   "metadata": {},
   "source": [
    "## Questions to be answered\n",
    "\n",
    "1. What is the average distance traveled by trips with a maximum of 2 passengers;\n",
    "2. Which are the 3 biggest vendors based on the total amount of money raised;\n",
    "3. Make a histogram of the monthly distribution over 4 years of rides paid with cash;\n",
    "4. Make a time series chart computing the number of tips each day for the last 3 months of 2012.\n"
   ]
  },
  {
   "cell_type": "markdown",
   "metadata": {},
   "source": [
    "## Downloading data"
   ]
  },
  {
   "cell_type": "code",
   "execution_count": null,
   "metadata": {},
   "outputs": [],
   "source": [
    "!sh download_data.sh"
   ]
  },
  {
   "cell_type": "markdown",
   "metadata": {},
   "source": [
    "## Exploring the data"
   ]
  },
  {
   "cell_type": "markdown",
   "metadata": {},
   "source": [
    "### NYC Trips"
   ]
  },
  {
   "cell_type": "code",
   "execution_count": null,
   "metadata": {
    "scrolled": false
   },
   "outputs": [],
   "source": [
    "%%bash\n",
    "for f in resources/*.json\n",
    "do\n",
    "    printf \"+++++ Exploring $f\\n\\n\"\n",
    "    printf \"+ NUMBER OF LINES\\n\\n\"\n",
    "    wc $f -l\n",
    "    printf \"\\n+ HEAD \\n\\n\"\n",
    "    head $f -n 3\n",
    "    printf \"\\n\"\n",
    "done"
   ]
  },
  {
   "cell_type": "markdown",
   "metadata": {},
   "source": [
    "### Lookups"
   ]
  },
  {
   "cell_type": "code",
   "execution_count": null,
   "metadata": {},
   "outputs": [],
   "source": [
    "%%bash\n",
    "for f in resources/*.csv\n",
    "do\n",
    "    printf \"+++++ Exploring $f\\n\\n\"\n",
    "    printf \"+ NUMBER OF LINES\\n\\n\"\n",
    "    wc $f -l\n",
    "    printf \"\\n+ HEAD \\n\\n\"\n",
    "    head $f -n 10\n",
    "    printf \"\\n\"\n",
    "done"
   ]
  },
  {
   "cell_type": "markdown",
   "metadata": {},
   "source": [
    "## Pre processing data"
   ]
  },
  {
   "cell_type": "code",
   "execution_count": 1,
   "metadata": {},
   "outputs": [],
   "source": [
    "import json\n",
    "\n",
    "import pandas as pd\n",
    "import numpy as np\n",
    "\n",
    "import matplotlib.pyplot as plt\n",
    "\n",
    "pd.set_option('mode.chained_assignment', None)"
   ]
  },
  {
   "cell_type": "code",
   "execution_count": 2,
   "metadata": {},
   "outputs": [],
   "source": [
    "URLS_TABLE = {\n",
    "    '2009': 'resources/data-sample_data-nyctaxi-trips-2009-json_corrigido.json',\n",
    "    '2010': 'resources/data-sample_data-nyctaxi-trips-2010-json_corrigido.json',\n",
    "    '2011': 'resources/data-sample_data-nyctaxi-trips-2011-json_corrigido.json',\n",
    "    '2012': 'resources/data-sample_data-nyctaxi-trips-2012-json_corrigido.json'\n",
    "}\n",
    "\n",
    "URLS = URLS_TABLE.values()\n",
    "\n",
    "PAYMENT_TYPE_TABLE = pd.read_csv('resources/data-payment_lookup-csv.csv')\\\n",
    "                       .rename(columns={'A':'payment_type', 'B': 'payment_lookup'}).drop(0, axis=0)\n",
    "PAYMENT_TYPE_TABLE = dict(zip(PAYMENT_TYPE_TABLE['payment_type'], PAYMENT_TYPE_TABLE['payment_lookup']))"
   ]
  },
  {
   "cell_type": "code",
   "execution_count": 14,
   "metadata": {},
   "outputs": [],
   "source": [
    "def clean_json(line, allowed_columns):\n",
    "    return {col: value for col, value in json.loads(line).items() if col in allowed_columns}\n",
    "\n",
    "def build_df(urls, allowed_columns, chunk_size=100000, chunk_processing_func=None):\n",
    "    df = pd.DataFrame()\n",
    "\n",
    "    for url in urls:\n",
    "        for chunk in pd.read_json(url, lines=True, chunksize=chunk_size):\n",
    "            df = pd.concat([chunk_processing_func(chunk[allowed_columns]), df])\n",
    "            \n",
    "    return df\n",
    "\n",
    "def clear_memory():\n",
    "    try:\n",
    "        del df\n",
    "    except NameError:\n",
    "        pass"
   ]
  },
  {
   "cell_type": "markdown",
   "metadata": {},
   "source": [
    "## Answering questions"
   ]
  },
  {
   "cell_type": "markdown",
   "metadata": {},
   "source": [
    "### What is the average distance traveled by trips with a maximum of 2 passengers?"
   ]
  },
  {
   "cell_type": "code",
   "execution_count": 4,
   "metadata": {},
   "outputs": [
    {
     "name": "stdout",
     "output_type": "stream",
     "text": [
      "Average distance traveled by trips with a maximum of 2 passengers: nan\n"
     ]
    }
   ],
   "source": [
    "clear_memory()\n",
    "\n",
    "def fn(df):\n",
    "    df.loc[:, 'Year'] = df.loc[:, 'dropoff_datetime'].apply(lambda date: pd.Timestamp(date).year)\n",
    "    \n",
    "    cols = ['Year','passenger_count', 'trip_distance']\n",
    "    \n",
    "    return df.loc[df.loc[:, cols[1]] <= 2, cols].astype({'trip_distance': 'float32'})\n",
    "\n",
    "df = build_df(URLS, ['dropoff_datetime', 'passenger_count', 'trip_distance'], chunk_processing_func=fn)\n",
    "\n",
    "print(f'Average distance traveled by trips with a maximum of 2 passengers: {df[\"trip_distance\"].mean()}')"
   ]
  },
  {
   "cell_type": "code",
   "execution_count": 12,
   "metadata": {},
   "outputs": [
    {
     "data": {
      "image/png": "[encoded data removed]",
      "text/plain": [
       "<Figure size 1080x360 with 1 Axes>"
      ]
     },
     "metadata": {
      "needs_background": "light"
     },
     "output_type": "display_data"
    }
   ],
   "source": [
    "plt.close('all')\n",
    "\n",
    "ax = plt.gca()\n",
    "\n",
    "ax.set_ylabel('Average distance')\n",
    "\n",
    "ax.ticklabel_format(style='plain')\n",
    "\n",
    "kwargs = {\n",
    "    'ax': ax,\n",
    "    'kind': 'line',\n",
    "    'title': 'Average distance traveled by trips with a maximum of 2 passengers per year', \n",
    "    'figsize': (15, 5),\n",
    "    'xticks': df['Year'].unique()\n",
    "}\n",
    "\n",
    "df.groupby('Year').mean()['trip_distance'].plot(**kwargs)\n",
    "\n",
    "plt.show()"
   ]
  },
  {
   "cell_type": "markdown",
   "metadata": {},
   "source": [
    "### Which are the 3 biggest vendors based on the total amount of money raised?"
   ]
  },
  {
   "cell_type": "code",
   "execution_count": 16,
   "metadata": {},
   "outputs": [],
   "source": [
    "clear_memory()\n",
    "\n",
    "df = build_df(URLS, ['vendor_id', 'total_amount'],\n",
    "              chunk_processing_func=lambda df: df.groupby('vendor_id').sum())"
   ]
  },
  {
   "cell_type": "code",
   "execution_count": 35,
   "metadata": {},
   "outputs": [
    {
     "data": {
      "image/png": "[encoded data removed]",
      "text/plain": [
       "<Figure size 1080x360 with 1 Axes>"
      ]
     },
     "metadata": {
      "needs_background": "light"
     },
     "output_type": "display_data"
    }
   ],
   "source": [
    "plt.close('all')\n",
    "\n",
    "ax = plt.gca()\n",
    "\n",
    "ax.set_ylabel('Total amaount')\n",
    "\n",
    "ax.ticklabel_format(style='plain')\n",
    "\n",
    "kwargs = {\n",
    "    'ax': ax,\n",
    "    'kind': 'bar',\n",
    "    'title': 'Biggest vendors based on the total amount of money raised', \n",
    "    'figsize': (15, 5)\n",
    "}\n",
    "\n",
    "df.index.rename('Vendor ID', inplace=True)\n",
    "\n",
    "df.groupby('Vendor ID').sum().sort_values(by=['total_amount'], ascending=False)\\\n",
    "                             .iloc[:3].plot(**kwargs)\n",
    "\n",
    "plt.show()"
   ]
  },
  {
   "cell_type": "markdown",
   "metadata": {},
   "source": [
    "### Make a histogram of the monthly distribution over 4 years of rides paid with cash"
   ]
  },
  {
   "cell_type": "code",
   "execution_count": 37,
   "metadata": {},
   "outputs": [
    {
     "name": "stdout",
     "output_type": "stream",
     "text": [
      "Number of trips that ended on the next day: 24098\n"
     ]
    }
   ],
   "source": [
    "# Verify if pickup and dropoff day are always the same\n",
    "clear_memory()\n",
    "\n",
    "def fn(df):\n",
    "    df.loc[:, 'dropoff_day'] = df.loc[:, 'dropoff_datetime'].apply(lambda date: pd.Timestamp(date).day)\n",
    "    df.loc[:, 'pickup_day'] = df.loc[:, 'pickup_datetime'].apply(lambda date: pd.Timestamp(date).day)\n",
    "    \n",
    "    return df.loc[df.loc[:, 'dropoff_day'] != df.loc[:, 'pickup_day']]\n",
    "\n",
    "df = build_df(URLS, ['pickup_datetime', 'dropoff_datetime'], chunk_processing_func=fn)\n",
    "\n",
    "print(f'Number of trips that ended on the next day: {df.shape[0]}')"
   ]
  },
  {
   "cell_type": "code",
   "execution_count": 39,
   "metadata": {
    "scrolled": false
   },
   "outputs": [],
   "source": [
    "# Since there are a fell trips that went over midnight, I'll use the dropoff day as trip day\n",
    "clear_memory()\n",
    "\n",
    "def processing_func(df):\n",
    "    df.loc[:, 'dropoff_month'] = df.loc[:, 'dropoff_datetime'].apply(lambda date: pd.Timestamp(date).month)\n",
    "    df.loc[:, 'payment_type'] = df.loc[:, 'payment_type'].map(PAYMENT_TYPE_TABLE)\n",
    "\n",
    "    return df.loc[df.loc[:, 'payment_type'] == 'Cash']\n",
    "\n",
    "\n",
    "df = build_df(URLS, ['payment_type', 'dropoff_datetime'], chunk_processing_func=processing_func)"
   ]
  },
  {
   "cell_type": "code",
   "execution_count": 40,
   "metadata": {
    "scrolled": false
   },
   "outputs": [
    {
     "data": {
      "image/png": "[encoded data removed]",
      "text/plain": [
       "<Figure size 1080x360 with 1 Axes>"
      ]
     },
     "metadata": {
      "needs_background": "light"
     },
     "output_type": "display_data"
    }
   ],
   "source": [
    "plt.close('all')\n",
    "\n",
    "ax = plt.gca()\n",
    "\n",
    "ax.set_xlabel('Month')\n",
    "\n",
    "kwargs = {\n",
    "    'ax': ax,\n",
    "    'kind': 'hist',\n",
    "    'title': 'Monthly distribution of trips paid with cash per month', \n",
    "    'figsize': (15, 5),\n",
    "    'xticks': df['dropoff_month'].value_counts().index\n",
    "}\n",
    "\n",
    "df['dropoff_month'].plot(**kwargs)\n",
    "\n",
    "plt.show()"
   ]
  },
  {
   "cell_type": "markdown",
   "metadata": {},
   "source": [
    "### Make a time series chart computing the number of tips each day for the last 3 months of 2012"
   ]
  },
  {
   "cell_type": "code",
   "execution_count": 75,
   "metadata": {},
   "outputs": [],
   "source": [
    "clear_memory()\n",
    "\n",
    "def fn(df):\n",
    "    df.loc[:, 'dropoff_day'] = df.loc[:, 'dropoff_datetime'].apply(lambda date: pd.Timestamp(date).day)\n",
    "    df.loc[:, 'dropoff_month'] = df.loc[:, 'dropoff_datetime'].apply(lambda date: pd.Timestamp(date).month)\n",
    "    \n",
    "    return df.loc[df.loc[:, 'dropoff_month'].isin([10,11,12])]\n",
    "\n",
    "df = build_df([URLS_TABLE['2012']], ['dropoff_datetime'], chunk_processing_func=fn)"
   ]
  },
  {
   "cell_type": "code",
   "execution_count": 77,
   "metadata": {},
   "outputs": [
    {
     "data": {
      "image/png": "[encoded data removed]",
      "text/plain": [
       "<Figure size 1080x360 with 1 Axes>"
      ]
     },
     "metadata": {
      "needs_background": "light"
     },
     "output_type": "display_data"
    }
   ],
   "source": [
    "plt.close('all')\n",
    "\n",
    "ax = plt.gca()\n",
    "\n",
    "ax.set_xlabel('Day')\n",
    "ax.set_ylabel('Number of trips')\n",
    "\n",
    "kwargs = {\n",
    "    'ax': ax,\n",
    "    'kind': 'line',\n",
    "    'title': 'Trips per day over the last 3 months of 2012', \n",
    "    'figsize': (15, 5),\n",
    "    'xticks': df['dropoff_day'].value_counts().index\n",
    "}\n",
    "\n",
    "df['dropoff_day'].value_counts().sort_index().plot(**kwargs) \n",
    "\n",
    "plt.show()"
   ]
  }
 ],
 "metadata": {
  "kernelspec": {
   "display_name": "Python 3",
   "language": "python",
   "name": "python3"
  },
  "language_info": {
   "codemirror_mode": {
    "name": "ipython",
    "version": 3
   },
   "file_extension": ".py",
   "mimetype": "text/x-python",
   "name": "python",
   "nbconvert_exporter": "python",
   "pygments_lexer": "ipython3",
   "version": "3.7.4"
  }
 },
 "nbformat": 4,
 "nbformat_minor": 2
}
